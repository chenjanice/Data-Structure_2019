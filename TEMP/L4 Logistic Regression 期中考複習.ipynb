{
 "cells": [
  {
   "cell_type": "code",
   "execution_count": 1,
   "metadata": {
    "collapsed": true
   },
   "outputs": [],
   "source": [
    "import pandas as pd\n",
    "import numpy as np\n",
    "from sklearn.datasets import load_iris\n",
    "\n",
    "iris=load_iris()\n",
    "\n",
    "feature = pd.DataFrame(iris['data'],columns=iris['feature_names'])\n",
    "target = pd.DataFrame(iris['target'],columns=['class'])\n",
    "\n",
    "data=pd.concat([feature, target],axis=1)\n",
    "df=data[data['class']!=2] #只考慮類別為0和1的資料"
   ]
  },
  {
   "cell_type": "code",
   "execution_count": 10,
   "metadata": {},
   "outputs": [
    {
     "data": {
      "text/plain": [
       "<seaborn.axisgrid.FacetGrid at 0x275f5169898>"
      ]
     },
     "execution_count": 10,
     "metadata": {},
     "output_type": "execute_result"
    },
    {
     "data": {
      "image/png": "[encoded data removed]",
      "text/plain": [
       "<matplotlib.figure.Figure at 0x275f6e620f0>"
      ]
     },
     "metadata": {},
     "output_type": "display_data"
    }
   ],
   "source": [
    "import matplotlib.pyplot as plt\n",
    "import seaborn as sns\n",
    "\n",
    "%matplotlib inline\n",
    "\n",
    "plt.style.use('ggplot')\n",
    "\n",
    "#FacetGrid 高級繪圖\n",
    "g=sns.FacetGrid(df,hue='class',size=5)\n",
    "g.map(plt.scatter,'sepal length (cm)','sepal width (cm)')\n",
    "g.add_legend()#添加圖示說明\n"
   ]
  },
  {
   "cell_type": "code",
   "execution_count": 11,
   "metadata": {
    "collapsed": true
   },
   "outputs": [],
   "source": [
    "from sklearn.model_selection import train_test_split\n",
    "from sklearn.preprocessing import StandardScaler\n",
    "\n",
    "X=df.iloc[:,:2].values\n",
    "y=df.iloc[:,4].values\n",
    "\n",
    "#標準化函式\n",
    "sc=StandardScaler()\n",
    "sc.fit(X)#.fit代入x\n",
    "X_std=sc.transform(X)#.transform代入x"
   ]
  },
  {
   "cell_type": "code",
   "execution_count": 12,
   "metadata": {},
   "outputs": [
    {
     "name": "stdout",
     "output_type": "stream",
     "text": [
      "[[ 9.88306167 -6.64634245]]\n",
      "[ 1.80807154]\n"
     ]
    }
   ],
   "source": [
    "#訓練logistic regresstion 模型\n",
    "from sklearn.linear_model import LogisticRegression\n",
    "from matplotlib.colors import ListedColormap\n",
    "\n",
    "#定義函式\n",
    "lr=LogisticRegression(C=100.0,random_state=1)\n",
    "lr.fit(X_std,y)#.fit 代入x標準值,y\n",
    "\n",
    "print(lr.coef_)#迴歸係數\n",
    "print(lr.intercept_)#截具\n"
   ]
  },
  {
   "cell_type": "code",
   "execution_count": null,
   "metadata": {
    "collapsed": true
   },
   "outputs": [],
   "source": [
    "def plot_decision_regions(x,y)"
   ]
  },
  {
   "cell_type": "code",
   "execution_count": null,
   "metadata": {
    "collapsed": true
   },
   "outputs": [],
   "source": []
  },
  {
   "cell_type": "code",
   "execution_count": null,
   "metadata": {
    "collapsed": true
   },
   "outputs": [],
   "source": []
  }
 ],
 "metadata": {
  "kernelspec": {
   "display_name": "Python 3",
   "language": "python",
   "name": "python3"
  },
  "language_info": {
   "codemirror_mode": {
    "name": "ipython",
    "version": 3
   },
   "file_extension": ".py",
   "mimetype": "text/x-python",
   "name": "python",
   "nbconvert_exporter": "python",
   "pygments_lexer": "ipython3",
   "version": "3.6.1"
  }
 },
 "nbformat": 4,
 "nbformat_minor": 2
}
