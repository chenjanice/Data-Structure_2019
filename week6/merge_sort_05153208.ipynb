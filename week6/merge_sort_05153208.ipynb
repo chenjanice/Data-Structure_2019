{
 "cells": [
  {
   "cell_type": "markdown",
   "metadata": {},
   "source": [
    "首先，先對MergeSort有一個概要的了解\n",
    "\n",
    "Merge Sort 合併排序法\n",
    "\n",
    "[簡介]\n",
    "- 採用分治法:\n",
    "   - 分割：遞迴地把目前序列平均分割成兩半。\n",
    "   - 整合：在保持元素順序的同時將上一步得到的子序列整合到一起（合併）。\n",
    "   \n",
    "- 合併操作：\n",
    "  將兩個已經排序的序列合併成一個序列的操作(兩種方式)\n",
    "  - 遞迴法（Top-down）：\n",
    "     1.申請空間，使其大小為兩個已經排序序列之和，該空間用來存放合併後的序列\n",
    "     2.設定兩個指標，最初位置分別為兩個已經排序序列的起始位置\n",
    "     3.比較兩個指標所指向的元素，選擇相對小的元素放入到合併空間，並移動指標到下一位置\n",
    "     4.重複步驟3直到某一指標到達序列尾\n",
    "     5.將另一序列剩下的所有元素直接複製到合併序列尾\n",
    "     \n",
    "  - 疊代法（Bottom-up）:\n",
    "     1.將序列每相鄰兩個數字進行合併操作，形成(n/2)個序列，排序後每個序列包含兩/一個元素\n",
    "     2.若此時序列數不是1個則將上述序列再次合併，形成(n/4)個序列，每個序列包含四/三個元素\n",
    "     3.重複步驟2，直到所有元素排序完畢，即序列數為1\n",
    "  \n",
    "參考：[合併排序 - 維基百科，自由的百科全書](https://zh.wikipedia.org/wiki/%E5%BD%92%E5%B9%B6%E6%8E%92%E5%BA%8F)"
   ]
  },
  {
   "cell_type": "markdown",
   "metadata": {},
   "source": [
    "#### 由於合併操作有兩種方式，以下則採取遞迴法嘗試寫寫看。  "
   ]
  },
  {
   "cell_type": "markdown",
   "metadata": {},
   "source": [
    "#### 先設計一個切分數列的方式"
   ]
  },
  {
   "cell_type": "code",
   "execution_count": 34,
   "metadata": {},
   "outputs": [
    {
     "name": "stdout",
     "output_type": "stream",
     "text": [
      "[5, 6, 8, 1, 4, 9]\n",
      "[12, 24, 14, 34, 45, 67]\n"
     ]
    }
   ],
   "source": [
    "alist=[5,6,8,1,4,9,12,24,14,34,45,67]\n",
    "\n",
    "A1=[]\n",
    "A2=[]\n",
    "\n",
    "#奇數個元素\n",
    "if len(alist)%2 == 1:\n",
    "    num=(len(alist)//2)+1\n",
    "    for i in range(num):\n",
    "        A1.append(alist[i])\n",
    "    for i in range(num,len(alist)):\n",
    "        A2.append(alist[i])\n",
    "        \n",
    "    print(A1)\n",
    "    print(A2)\n",
    "\n",
    "#偶數個元素\n",
    "else:\n",
    "    num=(len(alist)//2)\n",
    "    for i in range(num):\n",
    "        A1.append(alist[i])\n",
    "        \n",
    "    for i in range(num,len(alist)):\n",
    "        A2.append(alist[i])\n",
    "    print(A1)\n",
    "    print(A2)"
   ]
  },
  {
   "cell_type": "markdown",
   "metadata": {},
   "source": [
    "#### 參考了網路上的方法，發現自己多此一舉..."
   ]
  },
  {
   "cell_type": "code",
   "execution_count": 39,
   "metadata": {},
   "outputs": [
    {
     "name": "stdout",
     "output_type": "stream",
     "text": [
      "[5, 6, 8, 1, 4, 9]\n",
      "[12, 24, 14, 34, 45, 67]\n"
     ]
    }
   ],
   "source": [
    "alist=[5,6,8,1,4,9,12,24,14,34,45,67]\n",
    "num=len(alist)//2\n",
    "arrleft=alist[0:num]\n",
    "arrright=alist[num:len(alist)]\n",
    "print(arrleft)\n",
    "print(arrright)"
   ]
  },
  {
   "cell_type": "markdown",
   "metadata": {},
   "source": [
    "#### 想辦法用迴圈持續把arr切分"
   ]
  },
  {
   "cell_type": "code",
   "execution_count": 124,
   "metadata": {},
   "outputs": [
    {
     "name": "stdout",
     "output_type": "stream",
     "text": [
      "[6, 5]\n",
      "[8, 4, 1]\n"
     ]
    }
   ],
   "source": [
    "def separate(alist):\n",
    "    num=len(alist)//2\n",
    "    arrleft=alist[0:num]\n",
    "    arrright=alist[num:len(alist)]\n",
    "    \n",
    "    print(arrleft)\n",
    "    print(arrright)\n",
    "    \n",
    "    while len(arrleft)>1:\n",
    "        separate(arrleft)\n",
    "    while len(arrright)>1:\n",
    "        separate(arrright)\n",
    "        \n",
    "    \n",
    "alist=[6,5,8,4,1]\n",
    "separate(alist)\n",
    "\n"
   ]
  },
  {
   "cell_type": "markdown",
   "metadata": {},
   "source": [
    "#### 出現無限的遞迴狀況....\n",
    "#### 發現自己的遞迴的概念可能不夠清楚，"
   ]
  },
  {
   "cell_type": "code",
   "execution_count": 94,
   "metadata": {},
   "outputs": [
    {
     "name": "stdout",
     "output_type": "stream",
     "text": [
      "[6, 5]\n",
      "[8, 4, 1]\n",
      "[6]\n",
      "[5]\n",
      "[8]\n",
      "[4, 1]\n",
      "[4]\n",
      "[1]\n"
     ]
    }
   ],
   "source": [
    "def separate(alist):\n",
    "    if len(alist)>1:\n",
    "        num=len(alist)//2\n",
    "        arrleft=alist[0:num]\n",
    "        arrright=alist[num:len(alist)]\n",
    "    \n",
    "        print(arrleft)\n",
    "        print(arrright)\n",
    "    \n",
    "        separate(arrleft)\n",
    "        separate(arrright)\n",
    "        \n",
    "    \n",
    "alist=[6,5,8,4,1]\n",
    "separate(alist)"
   ]
  },
  {
   "attachments": {},
   "cell_type": "markdown",
   "metadata": {},
   "source": [
    "參考資料：[初學者學演算法｜排序法進階：合併排序法 - AppWorks School - Medium](https://medium.com/appworks-school/%E5%88%9D%E5%AD%B8%E8%80%85%E5%AD%B8%E6%BC%94%E7%AE%97%E6%B3%95-%E6%8E%92%E5%BA%8F%E6%B3%95%E9%80%B2%E9%9A%8E-%E5%90%88%E4%BD%B5%E6%8E%92%E5%BA%8F%E6%B3%95-6252651c6f7e)\n",
    "\n",
    "    \n",
    "#### 參考了以上的參考資料：將while 改成 if 並且放在開頭檢查即可改善這個問題。\n",
    "#### 並且決定針對這份程式碼做詳細的遞迴分解，想辦法理解當中的遞迴方式。"
   ]
  },
  {
   "cell_type": "code",
   "execution_count": 81,
   "metadata": {
    "scrolled": true
   },
   "outputs": [
    {
     "name": "stdout",
     "output_type": "stream",
     "text": [
      "[6, 5]\n",
      "[8, 4, 1]\n",
      "----\n",
      "[6]\n",
      "[5]\n",
      "----\n",
      "當array元素皆等於1時：\n",
      "[5, 5]\n",
      "[5, 6]\n",
      "以上完成一次sort\n",
      "\n",
      "[8]\n",
      "[4, 1]\n",
      "----\n",
      "[4]\n",
      "[1]\n",
      "----\n",
      "當array元素皆等於1時：\n",
      "[1, 1]\n",
      "[1, 4]\n",
      "以上完成一次sort\n",
      "\n",
      "當array元素皆等於1時：\n",
      "[1, 4, 1]\n",
      "[1, 4, 1]\n",
      "[1, 4, 8]\n",
      "以上完成一次sort\n",
      "\n",
      "當array元素皆等於1時：\n",
      "[1, 5, 8, 4, 1]\n",
      "[1, 4, 8, 4, 1]\n",
      "[1, 4, 5, 4, 1]\n",
      "[1, 4, 5, 6, 1]\n",
      "[1, 4, 5, 6, 8]\n",
      "以上完成一次sort\n",
      "\n"
     ]
    }
   ],
   "source": [
    "\n",
    "array=[6,5,8,4,1]\n",
    "def mergesort(array):\n",
    "    \n",
    "    if len(array)>1:\n",
    "        mid=len(array)//2\n",
    "        arrleft=array[0:mid]\n",
    "        arrright=array[mid:len(array)]\n",
    "        print(arrleft)\n",
    "        print(arrright)\n",
    "        print('----')\n",
    "        \n",
    "        mergesort(arrleft) \n",
    "        mergesort(arrright)\n",
    "        \n",
    "        print('當array元素皆等於1時：')\n",
    "        leftmark=0\n",
    "        rightmark=0\n",
    "        mergemark=0\n",
    "        \n",
    "        while leftmark<len(arrleft) and rightmark<len(arrright):\n",
    "            if arrleft[leftmark]< arrright[rightmark]:\n",
    "                array[mergemark]=arrleft[leftmark]\n",
    "                leftmark+=1         \n",
    "            elif arrleft[leftmark] > arrright[rightmark]:\n",
    "                array[mergemark]=arrright[rightmark]\n",
    "                rightmark+=1               \n",
    "            mergemark+=1\n",
    "            print(array)\n",
    "            \n",
    "        while leftmark<len(arrleft):\n",
    "            array[mergemark]=arrleft[leftmark]\n",
    "            mergemark+=1\n",
    "            leftmark+=1\n",
    "            print(array)\n",
    "            \n",
    "        while rightmark<len(arrright):   \n",
    "            array[mergemark]=arrright[rightmark]\n",
    "            mergemark+=1\n",
    "            rightmark+=1\n",
    "            print(array)\n",
    "            \n",
    "        print('以上完成一次sort')\n",
    "        print()\n",
    "        \n",
    "        \n",
    "        \n",
    "                \n",
    "    \n",
    "mergesort(array)\n"
   ]
  },
  {
   "cell_type": "markdown",
   "metadata": {},
   "source": [
    "#### 透過上述印出結果，可以了解到，每一個arrleft和arrright都會被帶入mergesort中，直到皆為1個元素時才會進行排序。\n",
    "#### 自己對於遞迴運作的理解：\n",
    "[圖片解釋](https://github.com/chenjanice/Data-Structure_2019/blob/master/images/mersort1.jpg)"
   ]
  },
  {
   "cell_type": "markdown",
   "metadata": {},
   "source": [
    "#### 過了三個小時後自己練習打...."
   ]
  },
  {
   "cell_type": "code",
   "execution_count": 123,
   "metadata": {},
   "outputs": [
    {
     "name": "stdout",
     "output_type": "stream",
     "text": [
      "排序： [17, 33]\n",
      "排序： [17, 33, 41]\n",
      "排序： [61, 80]\n",
      "排序： [5, 55]\n",
      "排序： [5, 55, 61, 80]\n",
      "排序： [5, 17, 33, 41, 55, 61, 80]\n",
      "[5, 17, 33, 41, 55, 61, 80]\n"
     ]
    }
   ],
   "source": [
    "def mergesort(arr):\n",
    "    if len(arr) >1:\n",
    "        mid=len(arr)//2\n",
    "        arr1=arr[0:mid]\n",
    "        arr2=arr[mid:len(arr)]\n",
    "        \n",
    "        mergesort(arr1)\n",
    "        mergesort(arr2)\n",
    "        arr=sortbeforemerge(arr,arr1,arr2)\n",
    "        print('排序：',arr)\n",
    "\n",
    "    \n",
    "def sortbeforemerge(arr,arr1,arr2):\n",
    "    arr1_index=0\n",
    "    arr2_index=0\n",
    "    arr_index=0\n",
    "    \n",
    "    while arr1_index<len(arr1) and arr2_index<len(arr2):\n",
    "        if  arr1[arr1_index]<arr2[arr2_index]:\n",
    "            arr[arr_index]=arr1[arr1_index]\n",
    "            arr1_index+=1\n",
    "        elif arr1[arr1_index]>arr2[arr2_index]:\n",
    "            arr[arr_index]=arr2[arr2_index]\n",
    "            arr2_index+=1\n",
    "        arr_index+=1\n",
    "            \n",
    "    while arr1_index<len(arr1):\n",
    "        arr[arr_index]=arr1[arr1_index]\n",
    "        arr1_index+=1\n",
    "        arr_index+=1\n",
    "    while arr2_index<len(arr2):\n",
    "        arr[arr_index]=arr2[arr2_index]\n",
    "        arr2_index+=1\n",
    "        arr_index+=1\n",
    "    return arr\n",
    "        \n",
    "Numbers = [41, 33, 17, 80, 61, 5, 55]\n",
    "mergesort(Numbers)\n",
    "print(Numbers)"
   ]
  },
  {
   "cell_type": "markdown",
   "metadata": {},
   "source": [
    "#### 改成助教的格式："
   ]
  },
  {
   "cell_type": "code",
   "execution_count": 120,
   "metadata": {},
   "outputs": [
    {
     "data": {
      "text/plain": [
       "[5, 17, 33, 41, 55, 61, 80]"
      ]
     },
     "execution_count": 120,
     "metadata": {},
     "output_type": "execute_result"
    }
   ],
   "source": [
    "class Solution:\n",
    "\n",
    "    def mergesort(self,arr):\n",
    "        if len(arr) >1:\n",
    "            mid=len(arr)//2\n",
    "            arr1=arr[0:mid]\n",
    "            arr2=arr[mid:len(arr)]\n",
    "        \n",
    "            Solution().mergesort(arr1)\n",
    "            Solution().mergesort(arr2)\n",
    "            arr=Solution().sortbeforemerge(arr,arr1,arr2)\n",
    "            \n",
    "        return arr  \n",
    "\n",
    "    \n",
    "    def sortbeforemerge(self,arr,arr1,arr2):\n",
    "        arr1_index=0\n",
    "        arr2_index=0\n",
    "        arr_index=0\n",
    "    \n",
    "        while arr1_index<len(arr1) and arr2_index<len(arr2):\n",
    "            if  arr1[arr1_index]<arr2[arr2_index]:\n",
    "                arr[arr_index]=arr1[arr1_index]\n",
    "                arr1_index+=1\n",
    "            elif arr1[arr1_index]>arr2[arr2_index]:\n",
    "                arr[arr_index]=arr2[arr2_index]\n",
    "                arr2_index+=1\n",
    "            arr_index+=1\n",
    "            \n",
    "        while arr1_index<len(arr1):\n",
    "            arr[arr_index]=arr1[arr1_index]\n",
    "            arr1_index+=1\n",
    "            arr_index+=1\n",
    "        while arr2_index<len(arr2):\n",
    "            arr[arr_index]=arr2[arr2_index]\n",
    "            arr2_index+=1\n",
    "            arr_index+=1\n",
    "        return arr\n",
    "        \n",
    "Numbers = [41, 33, 17, 80, 61, 5, 55]\n",
    "\n",
    "output=Solution().mergesort(Numbers)\n",
    "output"
   ]
  },
  {
   "cell_type": "markdown",
   "metadata": {},
   "source": [
    "#### 自己的測試值ok"
   ]
  },
  {
   "cell_type": "code",
   "execution_count": 121,
   "metadata": {},
   "outputs": [
    {
     "ename": "KeyboardInterrupt",
     "evalue": "",
     "output_type": "error",
     "traceback": [
      "\u001b[1;31m---------------------------------------------------------------------------\u001b[0m",
      "\u001b[1;31mKeyboardInterrupt\u001b[0m                         Traceback (most recent call last)",
      "\u001b[1;32m<ipython-input-121-a79d17425a30>\u001b[0m in \u001b[0;36m<module>\u001b[1;34m()\u001b[0m\n\u001b[0;32m     40\u001b[0m \u001b[0mNumbers\u001b[0m \u001b[1;33m=\u001b[0m \u001b[1;33m[\u001b[0m\u001b[1;36m3\u001b[0m\u001b[1;33m,\u001b[0m\u001b[1;36m2\u001b[0m\u001b[1;33m,\u001b[0m\u001b[1;33m-\u001b[0m\u001b[1;36m4\u001b[0m\u001b[1;33m,\u001b[0m\u001b[1;36m6\u001b[0m\u001b[1;33m,\u001b[0m\u001b[1;36m4\u001b[0m\u001b[1;33m,\u001b[0m\u001b[1;36m2\u001b[0m\u001b[1;33m,\u001b[0m\u001b[1;36m19\u001b[0m\u001b[1;33m]\u001b[0m\u001b[1;33m\u001b[0m\u001b[0m\n\u001b[0;32m     41\u001b[0m \u001b[1;33m\u001b[0m\u001b[0m\n\u001b[1;32m---> 42\u001b[1;33m \u001b[0moutput\u001b[0m\u001b[1;33m=\u001b[0m\u001b[0mSolution\u001b[0m\u001b[1;33m(\u001b[0m\u001b[1;33m)\u001b[0m\u001b[1;33m.\u001b[0m\u001b[0mmergesort\u001b[0m\u001b[1;33m(\u001b[0m\u001b[0mNumbers\u001b[0m\u001b[1;33m)\u001b[0m\u001b[1;33m\u001b[0m\u001b[0m\n\u001b[0m\u001b[0;32m     43\u001b[0m \u001b[0moutput\u001b[0m\u001b[1;33m\u001b[0m\u001b[0m\n",
      "\u001b[1;32m<ipython-input-121-a79d17425a30>\u001b[0m in \u001b[0;36mmergesort\u001b[1;34m(self, arr)\u001b[0m\n\u001b[0;32m      9\u001b[0m             \u001b[0mSolution\u001b[0m\u001b[1;33m(\u001b[0m\u001b[1;33m)\u001b[0m\u001b[1;33m.\u001b[0m\u001b[0mmergesort\u001b[0m\u001b[1;33m(\u001b[0m\u001b[0marr1\u001b[0m\u001b[1;33m)\u001b[0m\u001b[1;33m\u001b[0m\u001b[0m\n\u001b[0;32m     10\u001b[0m             \u001b[0mSolution\u001b[0m\u001b[1;33m(\u001b[0m\u001b[1;33m)\u001b[0m\u001b[1;33m.\u001b[0m\u001b[0mmergesort\u001b[0m\u001b[1;33m(\u001b[0m\u001b[0marr2\u001b[0m\u001b[1;33m)\u001b[0m\u001b[1;33m\u001b[0m\u001b[0m\n\u001b[1;32m---> 11\u001b[1;33m             \u001b[0marr\u001b[0m\u001b[1;33m=\u001b[0m\u001b[0mSolution\u001b[0m\u001b[1;33m(\u001b[0m\u001b[1;33m)\u001b[0m\u001b[1;33m.\u001b[0m\u001b[0msortbeforemerge\u001b[0m\u001b[1;33m(\u001b[0m\u001b[0marr\u001b[0m\u001b[1;33m,\u001b[0m\u001b[0marr1\u001b[0m\u001b[1;33m,\u001b[0m\u001b[0marr2\u001b[0m\u001b[1;33m)\u001b[0m\u001b[1;33m\u001b[0m\u001b[0m\n\u001b[0m\u001b[0;32m     12\u001b[0m \u001b[1;33m\u001b[0m\u001b[0m\n\u001b[0;32m     13\u001b[0m         \u001b[1;32mreturn\u001b[0m \u001b[0marr\u001b[0m\u001b[1;33m\u001b[0m\u001b[0m\n",
      "\u001b[1;32m<ipython-input-121-a79d17425a30>\u001b[0m in \u001b[0;36msortbeforemerge\u001b[1;34m(self, arr, arr1, arr2)\u001b[0m\n\u001b[0;32m     19\u001b[0m         \u001b[0marr_index\u001b[0m\u001b[1;33m=\u001b[0m\u001b[1;36m0\u001b[0m\u001b[1;33m\u001b[0m\u001b[0m\n\u001b[0;32m     20\u001b[0m \u001b[1;33m\u001b[0m\u001b[0m\n\u001b[1;32m---> 21\u001b[1;33m         \u001b[1;32mwhile\u001b[0m \u001b[0marr1_index\u001b[0m\u001b[1;33m<\u001b[0m\u001b[0mlen\u001b[0m\u001b[1;33m(\u001b[0m\u001b[0marr1\u001b[0m\u001b[1;33m)\u001b[0m \u001b[1;32mand\u001b[0m \u001b[0marr2_index\u001b[0m\u001b[1;33m<\u001b[0m\u001b[0mlen\u001b[0m\u001b[1;33m(\u001b[0m\u001b[0marr2\u001b[0m\u001b[1;33m)\u001b[0m\u001b[1;33m:\u001b[0m\u001b[1;33m\u001b[0m\u001b[0m\n\u001b[0m\u001b[0;32m     22\u001b[0m             \u001b[1;32mif\u001b[0m  \u001b[0marr1\u001b[0m\u001b[1;33m[\u001b[0m\u001b[0marr1_index\u001b[0m\u001b[1;33m]\u001b[0m\u001b[1;33m<\u001b[0m\u001b[0marr2\u001b[0m\u001b[1;33m[\u001b[0m\u001b[0marr2_index\u001b[0m\u001b[1;33m]\u001b[0m\u001b[1;33m:\u001b[0m\u001b[1;33m\u001b[0m\u001b[0m\n\u001b[0;32m     23\u001b[0m                 \u001b[0marr\u001b[0m\u001b[1;33m[\u001b[0m\u001b[0marr_index\u001b[0m\u001b[1;33m]\u001b[0m\u001b[1;33m=\u001b[0m\u001b[0marr1\u001b[0m\u001b[1;33m[\u001b[0m\u001b[0marr1_index\u001b[0m\u001b[1;33m]\u001b[0m\u001b[1;33m\u001b[0m\u001b[0m\n",
      "\u001b[1;31mKeyboardInterrupt\u001b[0m: "
     ]
    }
   ],
   "source": [
    "class Solution:\n",
    "\n",
    "    def mergesort(self,arr):\n",
    "        if len(arr) >1:\n",
    "            mid=len(arr)//2\n",
    "            arr1=arr[0:mid]\n",
    "            arr2=arr[mid:len(arr)]\n",
    "        \n",
    "            Solution().mergesort(arr1)\n",
    "            Solution().mergesort(arr2)\n",
    "            arr=Solution().sortbeforemerge(arr,arr1,arr2)\n",
    "            \n",
    "        return arr  \n",
    "\n",
    "    \n",
    "    def sortbeforemerge(self,arr,arr1,arr2):\n",
    "        arr1_index=0\n",
    "        arr2_index=0\n",
    "        arr_index=0\n",
    "    \n",
    "        while arr1_index<len(arr1) and arr2_index<len(arr2):\n",
    "            if  arr1[arr1_index]<arr2[arr2_index]:\n",
    "                arr[arr_index]=arr1[arr1_index]\n",
    "                arr1_index+=1\n",
    "            elif arr1[arr1_index]>arr2[arr2_index]:\n",
    "                arr[arr_index]=arr2[arr2_index]\n",
    "                arr2_index+=1\n",
    "            arr_index+=1\n",
    "            \n",
    "        while arr1_index<len(arr1):\n",
    "            arr[arr_index]=arr1[arr1_index]\n",
    "            arr1_index+=1\n",
    "            arr_index+=1\n",
    "        while arr2_index<len(arr2):\n",
    "            arr[arr_index]=arr2[arr2_index]\n",
    "            arr2_index+=1\n",
    "            arr_index+=1\n",
    "        return arr\n",
    "        \n",
    "Numbers = [3,2,-4,6,4,2,19]\n",
    "\n",
    "output=Solution().mergesort(Numbers)\n",
    "output"
   ]
  },
  {
   "cell_type": "markdown",
   "metadata": {},
   "source": [
    "#### 用助教給的測試值卻發現沒有辦法跑出來，發現忘了處理兩數相等的情況。\n",
    "#### 因此調整：當兩數相等時，取先取左邊陣列的值。"
   ]
  },
  {
   "cell_type": "code",
   "execution_count": 122,
   "metadata": {},
   "outputs": [
    {
     "data": {
      "text/plain": [
       "[-4, 2, 2, 3, 4, 6, 19]"
      ]
     },
     "execution_count": 122,
     "metadata": {},
     "output_type": "execute_result"
    }
   ],
   "source": [
    "class Solution:\n",
    "\n",
    "    def mergesort(self,arr):\n",
    "        if len(arr) >1:\n",
    "            mid=len(arr)//2\n",
    "            arr1=arr[0:mid]\n",
    "            arr2=arr[mid:len(arr)]\n",
    "        \n",
    "            Solution().mergesort(arr1)\n",
    "            Solution().mergesort(arr2)\n",
    "            arr=Solution().sortbeforemerge(arr,arr1,arr2)\n",
    "            \n",
    "        return arr  \n",
    "\n",
    "    \n",
    "    def sortbeforemerge(self,arr,arr1,arr2):\n",
    "        arr1_index=0\n",
    "        arr2_index=0\n",
    "        arr_index=0\n",
    "    \n",
    "        while arr1_index<len(arr1) and arr2_index<len(arr2):\n",
    "            if  arr1[arr1_index]<=arr2[arr2_index]:\n",
    "                arr[arr_index]=arr1[arr1_index]\n",
    "                arr1_index+=1\n",
    "            elif arr1[arr1_index]>arr2[arr2_index]:\n",
    "                arr[arr_index]=arr2[arr2_index]\n",
    "                arr2_index+=1\n",
    "            arr_index+=1\n",
    "            \n",
    "        while arr1_index<len(arr1):\n",
    "            arr[arr_index]=arr1[arr1_index]\n",
    "            arr1_index+=1\n",
    "            arr_index+=1\n",
    "        while arr2_index<len(arr2):\n",
    "            arr[arr_index]=arr2[arr2_index]\n",
    "            arr2_index+=1\n",
    "            arr_index+=1\n",
    "        return arr\n",
    "        \n",
    "Numbers = [3,2,-4,6,4,2,19]\n",
    "\n",
    "output=Solution().mergesort(Numbers)\n",
    "output"
   ]
  }
 ],
 "metadata": {
  "kernelspec": {
   "display_name": "Python 3",
   "language": "python",
   "name": "python3"
  },
  "language_info": {
   "codemirror_mode": {
    "name": "ipython",
    "version": 3
   },
   "file_extension": ".py",
   "mimetype": "text/x-python",
   "name": "python",
   "nbconvert_exporter": "python",
   "pygments_lexer": "ipython3",
   "version": "3.6.1"
  }
 },
 "nbformat": 4,
 "nbformat_minor": 2
}
