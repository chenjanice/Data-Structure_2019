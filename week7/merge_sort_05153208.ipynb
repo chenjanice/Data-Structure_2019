{
 "cells": [
  {
   "cell_type": "code",
   "execution_count": 1,
   "metadata": {},
   "outputs": [
    {
     "data": {
      "text/plain": [
       "[-4, 2, 2, 3, 4, 6, 19]"
      ]
     },
     "execution_count": 1,
     "metadata": {},
     "output_type": "execute_result"
    }
   ],
   "source": [
    "class Solution:\n",
    "        def separate(self,arr):\n",
    "            if len(arr)>1:\n",
    "                mid=len(arr)//2\n",
    "                left=arr[0:mid]\n",
    "                right=arr[mid:len(arr)]\n",
    "                Solution().separate(left)\n",
    "                Solution().separate(right)\n",
    "                arr = Solution().sort_and_merge(arr,left,right)\n",
    "            return arr\n",
    "\n",
    "        def sort_and_merge(self,arr,left,right):\n",
    "            L=0  #left指標\n",
    "            R=0  #right指標\n",
    "            i=0  #arr指標\n",
    "    \n",
    "            #左右皆仍有數字\n",
    "            while L<len(left) and R<len(right):\n",
    "                if left[L]<right[R]:\n",
    "                    arr[i]=left[L]\n",
    "                    L+=1\n",
    "                elif left[L]>right[R]:\n",
    "                    arr[i]=right[R]\n",
    "                    R+=1\n",
    "                elif left[L] == right[R]:\n",
    "                    arr[i]=left[L]\n",
    "                    L+=1\n",
    "                i+=1\n",
    "            \n",
    "            #只剩左邊有數字    \n",
    "            while L<len(left):\n",
    "                arr[i]=left[L]\n",
    "                L+=1\n",
    "                i+=1\n",
    "        \n",
    "            #只剩右邊有數字\n",
    "            while R<len(right):\n",
    "                arr[i]=right[R]\n",
    "                R+=1\n",
    "                i+=1\n",
    "        \n",
    "            return arr\n",
    "        \n",
    "        def mergesort(self,arr):\n",
    "            Solution().separate(arr)\n",
    "            return arr\n",
    "        \n",
    "\n",
    "\n",
    "Numbers = [3,2,-4,6,4,2,19]\n",
    "output=Solution().mergesort(Numbers)\n",
    "output"
   ]
  },
  {
   "cell_type": "code",
   "execution_count": null,
   "metadata": {
    "collapsed": true
   },
   "outputs": [],
   "source": []
  }
 ],
 "metadata": {
  "kernelspec": {
   "display_name": "Python 3",
   "language": "python",
   "name": "python3"
  },
  "language_info": {
   "codemirror_mode": {
    "name": "ipython",
    "version": 3
   },
   "file_extension": ".py",
   "mimetype": "text/x-python",
   "name": "python",
   "nbconvert_exporter": "python",
   "pygments_lexer": "ipython3",
   "version": "3.6.1"
  }
 },
 "nbformat": 4,
 "nbformat_minor": 2
}
