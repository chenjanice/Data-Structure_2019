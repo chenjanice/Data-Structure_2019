{
 "cells": [
  {
   "cell_type": "markdown",
   "metadata": {},
   "source": [
    "#### 645. Set Mismatch\n",
    "- The set S originally contains numbers from 1 to n. But unfortunately, due to the data error, one of the numbers in the set got duplicated to another number in the set, which results in repetition of one number and loss of another number.\n",
    "\n",
    "- Given an array nums representing the data status of this set after the error. \n",
    "- Your task is to firstly **【find the number occurs twice】** and then **【find the number that is missing】**. \n",
    "Return them in the form of an array.\n",
    "----------------------------\n",
    "Input: nums = [1,2,2,4]   \n",
    "Output: [2,3]"
   ]
  },
  {
   "cell_type": "markdown",
   "metadata": {},
   "source": [
    "首先，用最直覺的for迴圈寫，一個一個比較。"
   ]
  },
  {
   "cell_type": "code",
   "execution_count": 4,
   "metadata": {},
   "outputs": [
    {
     "data": {
      "text/plain": [
       "[2, 3]"
      ]
     },
     "execution_count": 4,
     "metadata": {},
     "output_type": "execute_result"
    }
   ],
   "source": [
    "class Solution:\n",
    "    def findErrorNums(self, nums) :\n",
    "        length=len(nums)\n",
    "        correct=[]\n",
    "        self=[]\n",
    "        output=[]\n",
    "        for i in range(len(nums)):\n",
    "            correct.append(i+1)\n",
    "            \n",
    "        for i in nums:\n",
    "            if i not in self:\n",
    "                self.append(i)\n",
    "            else:\n",
    "                output.append(i)\n",
    "            \n",
    "        for i in correct:\n",
    "            if i not in nums:\n",
    "                output.append(i)\n",
    "        return output\n",
    "a=Solution()\n",
    "nums=[1,2,2,4]\n",
    "a.findErrorNums(nums)"
   ]
  },
  {
   "cell_type": "markdown",
   "metadata": {},
   "source": [
    "結果：Time Limit Exceeded"
   ]
  },
  {
   "cell_type": "code",
   "execution_count": null,
   "metadata": {
    "collapsed": true
   },
   "outputs": [],
   "source": [
    "class Solution(object):\n",
    "    def findErrorNums(self, nums):\n",
    "        \"\"\"\n",
    "        :type nums: List[int]\n",
    "        :rtype: List[int]\n",
    "        \"\"\"\n",
    "        hashs = [0] * len(nums)    #先建一個相同數量的list：可視為一個個index桶子\n",
    "        missing = -1     \n",
    "        for i in range(len(nums)): #為了用index(0~n)叫出所有nums裡面的數\n",
    "            a=nums[i]-1    #將 每一個 nums裡面的數-1：使之從 1 ~ n --> a：0 ~ n-1  (達到轉變成和index起始相同的目的)    \n",
    "                           #將轉變完的nums【每一個a】可以當作 index=數值的list\n",
    "            \n",
    "            hashs[a] += 1  #將hash當作一個桶子，當a這個數值出現、就在hash中以a為index的位置+1\n",
    "        return [hashs.index(2) + 1, hashs.index(0) + 1]  #回傳hash桶子為2(出現兩次)、為0(消失的) 【切記：因為前面的調整 都要+1】\n"
   ]
  },
  {
   "cell_type": "markdown",
   "metadata": {},
   "source": [
    "參考hash做法：[參考](https://blog.csdn.net/fuxuemingzhu/article/details/79247916)"
   ]
  },
  {
   "cell_type": "markdown",
   "metadata": {},
   "source": [
    "## Leetcode | 645. Set Mismatch\n",
    "\n",
    "#### 結果\n",
    "![image](https://raw.githubusercontent.com/chenjanice/Data-Structure_2019/master/images/set_mismatchleetcode.png)"
   ]
  }
 ],
 "metadata": {
  "kernelspec": {
   "display_name": "Python 3",
   "language": "python",
   "name": "python3"
  },
  "language_info": {
   "codemirror_mode": {
    "name": "ipython",
    "version": 3
   },
   "file_extension": ".py",
   "mimetype": "text/x-python",
   "name": "python",
   "nbconvert_exporter": "python",
   "pygments_lexer": "ipython3",
   "version": "3.6.1"
  }
 },
 "nbformat": 4,
 "nbformat_minor": 2
}
