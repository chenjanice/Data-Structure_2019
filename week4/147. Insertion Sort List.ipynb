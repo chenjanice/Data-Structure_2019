{
 "cells": [
  {
   "cell_type": "markdown",
   "metadata": {},
   "source": [
    "# 147. Insertion Sort List\n",
    "Sort a **linked list** using insertion sort.\n",
    "\n",
    "\n",
    "A graphical example of insertion sort. The partial sorted list (black) initially contains only the first element in the list.\n",
    "With each iteration one element (red) is removed from the input data and inserted in-place into the sorted list\n",
    " \n",
    "\n",
    "Algorithm of Insertion Sort:\n",
    "\n",
    "Insertion sort iterates, consuming **one input element each repetition**, and growing a **sorted output list.**\n",
    "At each iteration, insertion sort removes one element from the input data, finds the location it belongs within the sorted list, and inserts it there.\n",
    "It repeats until no input elements remain.\n",
    "\n",
    "* **Example 1**:   \n",
    "Input: 4->2->1->3  \n",
    "Output: 1->2->3->4  \n",
    "\n",
    "* **Example 2**:  \n",
    "Input: -1->5->3->4->0  \n",
    "Output: -1->0->3->4->5  "
   ]
  },
  {
   "cell_type": "code",
   "execution_count": 20,
   "metadata": {},
   "outputs": [
    {
     "name": "stdout",
     "output_type": "stream",
     "text": [
      "題目 4 -> 2 -> 1 -> 3 :\n",
      "結果： 1 2 3 4\n"
     ]
    }
   ],
   "source": [
    "# Definition for singly-linked list.\n",
    "class ListNode:\n",
    "     def __init__(self, x):\n",
    "            self.val = x\n",
    "            self.next = None\n",
    "\n",
    "class Solution:\n",
    "    def insertionSortList(self, head):\n",
    "        \n",
    "        node=ListNode(head.val)\n",
    "        self.head=node\n",
    "        \n",
    "        cur=head\n",
    "        while cur.next != None:\n",
    "            cur=cur.next\n",
    "            \n",
    "            if cur.val < self.head.val: \n",
    "                node=ListNode(cur.val)\n",
    "                node.next=self.head\n",
    "                self.head=node\n",
    "                \n",
    "            else:\n",
    "                temp=self.head    \n",
    "                while cur.val > temp.val:\n",
    "                    if temp.next == None:\n",
    "                        node=ListNode(cur.val)\n",
    "                        temp.next=node\n",
    "\n",
    "                    else:\n",
    "                        last=temp\n",
    "                        temp=temp.next\n",
    "                        \n",
    "                \n",
    "                node=ListNode(cur.val)\n",
    "                last.next=node\n",
    "                node.next=temp     \n",
    "            \n",
    "        return self.head\n",
    "                    \n",
    "print('題目 4 -> 2 -> 1 -> 3 :')             \n",
    "node1=ListNode(4)\n",
    "node2=ListNode(2)\n",
    "node3=ListNode(1)\n",
    "node4=ListNode(3)\n",
    "node1.next=node2\n",
    "node2.next=node3\n",
    "node3.next=node4\n",
    "\n",
    "n=Solution().insertionSortList(node1)\n",
    "print('結果：',n.val,n.next.val,n.next.next.val,n.next.next.next.val)\n"
   ]
  },
  {
   "cell_type": "code",
   "execution_count": 21,
   "metadata": {},
   "outputs": [
    {
     "name": "stdout",
     "output_type": "stream",
     "text": [
      "題目 -1 -> 5 -> 3 -> 4 -> 0 :\n",
      "結果： -1 0 3 4 5\n"
     ]
    }
   ],
   "source": [
    "n1=ListNode(-1)\n",
    "n2=ListNode(5)\n",
    "n3=ListNode(3)\n",
    "n4=ListNode(4)\n",
    "n5=ListNode(0)\n",
    "n1.next=n2\n",
    "n2.next=n3\n",
    "n3.next=n4\n",
    "n4.next=n5\n",
    "\n",
    "print('題目 -1 -> 5 -> 3 -> 4 -> 0 :')   \n",
    "n=Solution().insertionSortList(n1)\n",
    "print('結果：',n.val,n.next.val,n.next.next.val,n.next.next.next.val,n.next.next.next.next.val)"
   ]
  },
  {
   "cell_type": "markdown",
   "metadata": {},
   "source": [
    "不知道為什麼leetcode run 出來的結果卻是\n",
    "[-1,0,3,4,5,5]..."
   ]
  },
  {
   "cell_type": "code",
   "execution_count": 22,
   "metadata": {},
   "outputs": [
    {
     "name": "stdout",
     "output_type": "stream",
     "text": [
      "題目 -1 -> 5 -> 3 -> 4 -> 0 :\n",
      "結果： -1 0 3 4 5 5\n"
     ]
    }
   ],
   "source": [
    "n1=ListNode(-1)\n",
    "n2=ListNode(5)\n",
    "n3=ListNode(3)\n",
    "n4=ListNode(4)\n",
    "n5=ListNode(0)\n",
    "n1.next=n2\n",
    "n2.next=n3\n",
    "n3.next=n4\n",
    "n4.next=n5\n",
    "\n",
    "print('題目 -1 -> 5 -> 3 -> 4 -> 0 :')   \n",
    "n=Solution().insertionSortList(n1)\n",
    "print('結果：',n.val,n.next.val,n.next.next.val,n.next.next.next.val,n.next.next.next.next.val,n.next.next.next.next.next.val)"
   ]
  },
  {
   "cell_type": "markdown",
   "metadata": {},
   "source": [
    "檢查之後發現還真的多一個...XD  \n",
    "檢查一下哪裡出了問題： 發現是迴圈的部分少了一次if 的檢查、使node值多新增了一個"
   ]
  },
  {
   "cell_type": "code",
   "execution_count": 23,
   "metadata": {},
   "outputs": [],
   "source": [
    "# Definition for singly-linked list.\n",
    "class ListNode:\n",
    "     def __init__(self, x):\n",
    "            self.val = x\n",
    "            self.next = None\n",
    "\n",
    "class Solution:\n",
    "    def insertionSortList(self, head):\n",
    "        \n",
    "        node=ListNode(head.val)\n",
    "        self.head=node\n",
    "        \n",
    "        cur=head\n",
    "        while cur.next != None:\n",
    "            cur=cur.next\n",
    "            \n",
    "            if cur.val < self.head.val: \n",
    "                node=ListNode(cur.val)\n",
    "                node.next=self.head\n",
    "                self.head=node\n",
    "                \n",
    "            else:\n",
    "                temp=self.head    \n",
    "                while cur.val > temp.val:\n",
    "                    if temp.next == None:\n",
    "                        node=ListNode(cur.val)\n",
    "                        temp.next=node\n",
    "\n",
    "                    else:\n",
    "                        last=temp\n",
    "                        temp=temp.next\n",
    "                        \n",
    "                if cur.val <temp.val:\n",
    "                    node=ListNode(cur.val)\n",
    "                    last.next=node\n",
    "                    node.next=temp     \n",
    "            \n",
    "        return self.head"
   ]
  },
  {
   "cell_type": "code",
   "execution_count": 24,
   "metadata": {},
   "outputs": [
    {
     "name": "stdout",
     "output_type": "stream",
     "text": [
      "題目 -1 -> 5 -> 3 -> 4 -> 0 :\n"
     ]
    },
    {
     "ename": "AttributeError",
     "evalue": "'NoneType' object has no attribute 'val'",
     "output_type": "error",
     "traceback": [
      "\u001b[1;31m---------------------------------------------------------------------------\u001b[0m",
      "\u001b[1;31mAttributeError\u001b[0m                            Traceback (most recent call last)",
      "\u001b[1;32m<ipython-input-24-df88d8fb22d0>\u001b[0m in \u001b[0;36m<module>\u001b[1;34m()\u001b[0m\n\u001b[0;32m     11\u001b[0m \u001b[0mprint\u001b[0m\u001b[1;33m(\u001b[0m\u001b[1;34m'題目 -1 -> 5 -> 3 -> 4 -> 0 :'\u001b[0m\u001b[1;33m)\u001b[0m\u001b[1;33m\u001b[0m\u001b[0m\n\u001b[0;32m     12\u001b[0m \u001b[0mn\u001b[0m\u001b[1;33m=\u001b[0m\u001b[0mSolution\u001b[0m\u001b[1;33m(\u001b[0m\u001b[1;33m)\u001b[0m\u001b[1;33m.\u001b[0m\u001b[0minsertionSortList\u001b[0m\u001b[1;33m(\u001b[0m\u001b[0mn1\u001b[0m\u001b[1;33m)\u001b[0m\u001b[1;33m\u001b[0m\u001b[0m\n\u001b[1;32m---> 13\u001b[1;33m \u001b[0mprint\u001b[0m\u001b[1;33m(\u001b[0m\u001b[1;34m'結果：'\u001b[0m\u001b[1;33m,\u001b[0m\u001b[0mn\u001b[0m\u001b[1;33m.\u001b[0m\u001b[0mval\u001b[0m\u001b[1;33m,\u001b[0m\u001b[0mn\u001b[0m\u001b[1;33m.\u001b[0m\u001b[0mnext\u001b[0m\u001b[1;33m.\u001b[0m\u001b[0mval\u001b[0m\u001b[1;33m,\u001b[0m\u001b[0mn\u001b[0m\u001b[1;33m.\u001b[0m\u001b[0mnext\u001b[0m\u001b[1;33m.\u001b[0m\u001b[0mnext\u001b[0m\u001b[1;33m.\u001b[0m\u001b[0mval\u001b[0m\u001b[1;33m,\u001b[0m\u001b[0mn\u001b[0m\u001b[1;33m.\u001b[0m\u001b[0mnext\u001b[0m\u001b[1;33m.\u001b[0m\u001b[0mnext\u001b[0m\u001b[1;33m.\u001b[0m\u001b[0mnext\u001b[0m\u001b[1;33m.\u001b[0m\u001b[0mval\u001b[0m\u001b[1;33m,\u001b[0m\u001b[0mn\u001b[0m\u001b[1;33m.\u001b[0m\u001b[0mnext\u001b[0m\u001b[1;33m.\u001b[0m\u001b[0mnext\u001b[0m\u001b[1;33m.\u001b[0m\u001b[0mnext\u001b[0m\u001b[1;33m.\u001b[0m\u001b[0mnext\u001b[0m\u001b[1;33m.\u001b[0m\u001b[0mval\u001b[0m\u001b[1;33m,\u001b[0m\u001b[0mn\u001b[0m\u001b[1;33m.\u001b[0m\u001b[0mnext\u001b[0m\u001b[1;33m.\u001b[0m\u001b[0mnext\u001b[0m\u001b[1;33m.\u001b[0m\u001b[0mnext\u001b[0m\u001b[1;33m.\u001b[0m\u001b[0mnext\u001b[0m\u001b[1;33m.\u001b[0m\u001b[0mnext\u001b[0m\u001b[1;33m.\u001b[0m\u001b[0mval\u001b[0m\u001b[1;33m)\u001b[0m\u001b[1;33m\u001b[0m\u001b[0m\n\u001b[0m",
      "\u001b[1;31mAttributeError\u001b[0m: 'NoneType' object has no attribute 'val'"
     ]
    }
   ],
   "source": [
    "n1=ListNode(-1)\n",
    "n2=ListNode(5)\n",
    "n3=ListNode(3)\n",
    "n4=ListNode(4)\n",
    "n5=ListNode(0)\n",
    "n1.next=n2\n",
    "n2.next=n3\n",
    "n3.next=n4\n",
    "n4.next=n5\n",
    "\n",
    "print('題目 -1 -> 5 -> 3 -> 4 -> 0 :')   \n",
    "n=Solution().insertionSortList(n1)\n",
    "print('結果：',n.val,n.next.val,n.next.next.val,n.next.next.next.val,n.next.next.next.next.val,n.next.next.next.next.next.val)"
   ]
  },
  {
   "cell_type": "markdown",
   "metadata": {},
   "source": [
    "改完之後就沒有多的值了"
   ]
  },
  {
   "cell_type": "code",
   "execution_count": 25,
   "metadata": {},
   "outputs": [
    {
     "name": "stdout",
     "output_type": "stream",
     "text": [
      "題目 -1 -> 5 -> 3 -> 4 -> 0 :\n",
      "結果： -1 0 3 4 5\n"
     ]
    }
   ],
   "source": [
    "n1=ListNode(-1)\n",
    "n2=ListNode(5)\n",
    "n3=ListNode(3)\n",
    "n4=ListNode(4)\n",
    "n5=ListNode(0)\n",
    "n1.next=n2\n",
    "n2.next=n3\n",
    "n3.next=n4\n",
    "n4.next=n5\n",
    "\n",
    "print('題目 -1 -> 5 -> 3 -> 4 -> 0 :')   \n",
    "n=Solution().insertionSortList(n1)\n",
    "print('結果：',n.val,n.next.val,n.next.next.val,n.next.next.next.val,n.next.next.next.next.val)"
   ]
  },
  {
   "cell_type": "markdown",
   "metadata": {},
   "source": [
    "#### 第二個問題：\n",
    "Runtime Error Message:  Line 10: AttributeError: 'NoneType' object has no attribute 'val'  \n",
    "Last executed input:[]   \n",
    "\n",
    "-->其中一個測資是空的>>所以要檢查空的head\n",
    "\n",
    "-->新增：       \n",
    "if head == None:   \n",
    "   return   "
   ]
  },
  {
   "cell_type": "code",
   "execution_count": 23,
   "metadata": {
    "collapsed": true
   },
   "outputs": [],
   "source": [
    "# Definition for singly-linked list.\n",
    "class ListNode:\n",
    "     def __init__(self, x):\n",
    "            self.val = x\n",
    "            self.next = None\n",
    "\n",
    "class Solution:\n",
    "    def insertionSortList(self, head):\n",
    "        if head == None:\n",
    "            return\n",
    "        \n",
    "        node=ListNode(head.val)\n",
    "        self.head=node\n",
    "        \n",
    "        cur=head\n",
    "        while cur.next != None:\n",
    "            cur=cur.next\n",
    "            \n",
    "            if cur.val < self.head.val: \n",
    "                node=ListNode(cur.val)\n",
    "                node.next=self.head\n",
    "                self.head=node\n",
    "                \n",
    "            else:\n",
    "                temp=self.head    \n",
    "                while cur.val > temp.val:\n",
    "                    if temp.next == None:\n",
    "                        node=ListNode(cur.val)\n",
    "                        temp.next=node\n",
    "\n",
    "                    else:\n",
    "                        last=temp\n",
    "                        temp=temp.next\n",
    "                        \n",
    "                if cur.val <temp.val:\n",
    "                    node=ListNode(cur.val)\n",
    "                    last.next=node\n",
    "                    node.next=temp     \n",
    "            \n",
    "        return self.head"
   ]
  },
  {
   "cell_type": "markdown",
   "metadata": {},
   "source": [
    "### 第三個問題：\n",
    "沒有檢查相同的值！\n",
    "\n",
    "-->新增：相同的值的處理"
   ]
  },
  {
   "cell_type": "code",
   "execution_count": 23,
   "metadata": {
    "collapsed": true
   },
   "outputs": [],
   "source": [
    "# Definition for singly-linked list.\n",
    "class ListNode:\n",
    "     def __init__(self, x):\n",
    "            self.val = x\n",
    "            self.next = None\n",
    "\n",
    "class Solution:\n",
    "    def insertionSortList(self, head):\n",
    "        if head == None:\n",
    "            return\n",
    "        \n",
    "        node=ListNode(head.val)\n",
    "        self.head=node\n",
    "        \n",
    "        cur=head\n",
    "        while cur.next != None:\n",
    "            cur=cur.next\n",
    "            if cur.val == self.head:\n",
    "                node=ListNode(cur.val)\n",
    "                self.head.next=node\n",
    "                      \n",
    "            elif cur.val < self.head.val: \n",
    "                node=ListNode(cur.val)\n",
    "                node.next=self.head\n",
    "                self.head=node\n",
    "                \n",
    "            else:\n",
    "                temp=self.head    \n",
    "                while cur.val > temp.val:\n",
    "                    if temp.next == None:\n",
    "                        node=ListNode(cur.val)\n",
    "                        temp.next=node\n",
    "\n",
    "                    else:\n",
    "                        last=temp\n",
    "                        temp=temp.next\n",
    "                        \n",
    "                if cur.val <temp.val:\n",
    "                    node=ListNode(cur.val)\n",
    "                    last.next=node\n",
    "                    node.next=temp\n",
    "                    \n",
    "                elif cur.val == temp.val:\n",
    "                    node=ListNode(cur.val)\n",
    "                    temp.next=node\n",
    "                    if temp.next!= None:\n",
    "                        node.next=temp.next\n",
    "                    \n",
    "            \n",
    "        return self.head"
   ]
  },
  {
   "cell_type": "markdown",
   "metadata": {},
   "source": [
    "Memory Limit Exceeded.."
   ]
  },
  {
   "cell_type": "markdown",
   "metadata": {},
   "source": [
    "[參考解法](https://www.cnblogs.com/zuoyuan/p/3700105.html)"
   ]
  },
  {
   "cell_type": "code",
   "execution_count": null,
   "metadata": {
    "collapsed": true
   },
   "outputs": [],
   "source": [
    "# Definition for singly-linked list.\n",
    "class ListNode:\n",
    "     def __init__(self, x):\n",
    "            self.val = x\n",
    "            self.next = None\n",
    "\n",
    "class Solution:\n",
    "    def insertionSortList(self, head):\n",
    "        if not head:\n",
    "            return head\n",
    "        dummy = ListNode(0)                         #頭節點\n",
    "        dummy.next = head\n",
    "        \n",
    "        curr = head\n",
    "        \n",
    "        while curr.next:\n",
    "            if curr.next.val < curr.val:            #如果链表是升序的，那麼curr指针一直往後移动\n",
    "                pre = dummy                         #直到一個節點的值小於前面節點的值\n",
    "                while pre.next.val < curr.next.val: #尋找插入的位置\n",
    "                    pre = pre.next\n",
    "                tmp = curr.next                     \n",
    "                curr.next = tmp.next\n",
    "                tmp.next = pre.next\n",
    "                pre.next = tmp\n",
    "            else:\n",
    "                curr = curr.next\n",
    "        return dummy.next\n",
    "    \n",
    "    \n",
    "\n",
    "        \n",
    "        dummy=ListNode(0) #建一個頭節點\n",
    "        dummy.next=head   #頭節點 直接接input的linkedlist\n",
    "            \n",
    "        cur=head\n",
    "        while cur.next:\n",
    "            if cur.next.val < cur.val:\n",
    "                pre=dummy\n",
    "                while pre.next.val < cur.next.val :\n",
    "                    pre = pre.next\n",
    "                    \n",
    "                temp = cur.next\n",
    "                    \n",
    "                cur.next=temp.next\n",
    "                pre.next=temp\n",
    "                temp.next=pre.next\n",
    "            else:\n",
    "                cur=cur.next\n",
    "                    \n",
    "        return dummy.next"
   ]
  },
  {
   "cell_type": "markdown",
   "metadata": {},
   "source": [
    "自己理解完、打完卻遇到Time Limit Exceeded...  \n",
    "想辦法找出原因！\n",
    "\n",
    "\n",
    "---------------------\n",
    "### 發現問題出在：\n",
    "\n",
    "pre.next=temp   \n",
    "temp.next=pre.next    \n",
    "\n",
    "**以上這兩行應該顛倒**"
   ]
  },
  {
   "cell_type": "markdown",
   "metadata": {},
   "source": [
    "若pre.next=temp先執行，則pre.next會接著temp以及temp後面的值。  \n",
    "因此要先把temp.next更正為pre.next，先斷開的值   \n",
    "再調整pre.next為temp。   \n",
    "\n",
    "### 小結論：越後面的值的.next越需要先調整！"
   ]
  },
  {
   "cell_type": "code",
   "execution_count": null,
   "metadata": {
    "collapsed": true
   },
   "outputs": [],
   "source": [
    "class ListNode:\n",
    "     def __init__(self, x):\n",
    "            self.val = x\n",
    "            self.next = None\n",
    "\n",
    "class Solution:\n",
    "    def insertionSortList(self, head):\n",
    "        if head == None:\n",
    "            return head\n",
    "        else:\n",
    "            dummy=ListNode(0) #建一個頭節點\n",
    "            dummy.next=head   #頭節點 直接接input的linkedlist\n",
    "            \n",
    "            cur=head\n",
    "            while cur.next:\n",
    "                if cur.val < cur.next.val:\n",
    "                    cur=cur.next\n",
    "                else:\n",
    "                    \n",
    "                    pre=dummy\n",
    "                    while pre.next.val < cur.next.val :\n",
    "                        pre = pre.next\n",
    "                    \n",
    "                    temp = cur.next\n",
    "                    \n",
    "                    cur.next=temp.next\n",
    "                    pre.next=temp\n",
    "                    temp.next=pre.next\n",
    "                    \n",
    "            return dummy.next"
   ]
  },
  {
   "cell_type": "markdown",
   "metadata": {},
   "source": [
    "## Leetcode | 147. Insertion Sort List\n",
    "\n",
    "#### 結果\n",
    "![image](https://raw.githubusercontent.com/chenjanice/Data-Structure_2019/master/images/insertion_sort_list_leetcode.png)"
   ]
  }
 ],
 "metadata": {
  "kernelspec": {
   "display_name": "Python 3",
   "language": "python",
   "name": "python3"
  },
  "language_info": {
   "codemirror_mode": {
    "name": "ipython",
    "version": 3
   },
   "file_extension": ".py",
   "mimetype": "text/x-python",
   "name": "python",
   "nbconvert_exporter": "python",
   "pygments_lexer": "ipython3",
   "version": "3.6.1"
  }
 },
 "nbformat": 4,
 "nbformat_minor": 2
}
